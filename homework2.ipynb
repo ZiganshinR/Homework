{
 "cells": [
  {
   "cell_type": "markdown",
   "metadata": {},
   "source": [
    "Мое домашнее задание"
   ]
  },
  {
   "cell_type": "markdown",
   "metadata": {},
   "source": [
    "Решение задания №1"
   ]
  },
  {
   "cell_type": "code",
   "execution_count": 72,
   "metadata": {},
   "outputs": [
    {
     "name": "stdout",
     "output_type": "stream",
     "text": [
      "введите текст 1hyhtd\n",
      "введите текст 2jdhng\n",
      "pharse_2\n",
      "конец\n"
     ]
    }
   ],
   "source": [
    "pharse_1 = input('введите текст 1')\n",
    "pharse_2 = input('введите текст 2')\n",
    "if pharse_1 > pharse_2:\n",
    "    print('pharse_1')\n",
    "if pharse_1 < pharse_2:\n",
    "    print('pharse_2')\n",
    "else:\n",
    "    print('same')\n",
    "print('конец')\n",
    "\n",
    "\n"
   ]
  },
  {
   "cell_type": "markdown",
   "metadata": {},
   "source": [
    "Решение задания №2"
   ]
  },
  {
   "cell_type": "code",
   "execution_count": 26,
   "metadata": {},
   "outputs": [
    {
     "name": "stdout",
     "output_type": "stream",
     "text": [
      "год4000\n",
      "Високосный\n",
      "конец\n"
     ]
    }
   ],
   "source": [
    "\n",
    "a = int(input('год'))\n",
    "if a % 4 != 0:\n",
    "    print(\"Обычный\")\n",
    "elif a % 100 == 0:\n",
    "    if a % 400 == 0:\n",
    "        print('Високосный')\n",
    "    else:\n",
    "        print('Обычный')\n",
    "else:\n",
    "    print('Високосный')\n",
    "print('конец')"
   ]
  },
  {
   "cell_type": "markdown",
   "metadata": {},
   "source": [
    "Решение задания №3 "
   ]
  },
  {
   "cell_type": "code",
   "execution_count": 5,
   "metadata": {},
   "outputs": [
    {
     "name": "stdout",
     "output_type": "stream",
     "text": [
      "День рождения4\n",
      "Месяц рождения4\n",
      "Год рождения4\n",
      "овен\n",
      "конец\n"
     ]
    }
   ],
   "source": [
    "date = int(input('День рождения'))\n",
    "\n",
    "month = int(input('Месяц рождения'))\n",
    "\n",
    "year = int(input('Год рождения'))\n",
    "\n",
    "\n",
    "if (date >= 21 and date <= 31 and month == 3) or( month == 4 and date >= 1  and date <= 20):\n",
    "    print('овен')\n",
    "\n",
    "elif (date >= 21 and date <= 30 and month == 4) or( month == 5 and date >= 1 and date <= 21):\n",
    "\n",
    "    print('телец')\n",
    "\n",
    "elif (date >= 22 and date <= 31 and month == 5) or( month == 6 and date >= 1 and date <= 21):\n",
    "\n",
    "    print('близнецы')\n",
    "\n",
    "elif (date >= 22 and date <= 30 and month == 6) or( month == 7 and date >= 1 and date <= 23):\n",
    "\n",
    "    print('рак')\n",
    "\n",
    "elif (date >= 24 and date <= 31 and month == 7) or( month == 8 and date >= 1 and date <= 23):\n",
    "\n",
    "    print('Лев')\n",
    "\n",
    "elif (date >= 24 and date <= 31 and month == 8) or( month == 9 and date >= 1 and date <= 23):\n",
    "\n",
    "    print('дева')\n",
    "\n",
    "elif (date >= 24 and date <= 30 and month == 9) or( month == 10 and date >= 1 and date <= 23):\n",
    "\n",
    "    print('весы')\n",
    "\n",
    "elif (date >= 24 and date <= 31 and month == 10) or( month == 11 and date >= 1 and date <= 22):\n",
    "\n",
    "    print('скорпион')\n",
    "\n",
    "elif (date >= 23 and date <= 30 and month == 11) or( month == 12 and date >= 1 and date <= 21):\n",
    "\n",
    "    print('стрелец')\n",
    "\n",
    "elif (date >= 22 and date <= 31 and month == 12) or( month == 1 and date >= 1 and date <= 20):\n",
    "\n",
    "    print('козерог')\n",
    "\n",
    "elif (date >= 21 and date <= 31 and month == 1) or( month == 2 and date >= 1 and date <= 19):\n",
    "\n",
    "    print('водолей')\n",
    "\n",
    "elif (date >= 20 and date <= 29 and month ==2) or( month == 3 and date >= 1 and date <= 20):\n",
    "\n",
    "    print('рыба')\n",
    "print('конец')"
   ]
  },
  {
   "cell_type": "markdown",
   "metadata": {},
   "source": [
    "Решение задания №4"
   ]
  },
  {
   "cell_type": "code",
   "execution_count": 64,
   "metadata": {},
   "outputs": [
    {
     "name": "stdout",
     "output_type": "stream",
     "text": [
      "Стандартная коробка №3\n"
     ]
    }
   ],
   "source": [
    "width = 14\n",
    "length = 14\n",
    "height = 45\n",
    "if width < 15 and length < 15 and height < 15:\n",
    "    print('коробка №1')\n",
    "elif width > 15 and width < 50 and length > 15 and length < 50  and height > 15 and height < 50:\n",
    "    print('коробка №2')\n",
    "elif length > 2000:\n",
    "    print('Упаковка для лыж')\n",
    "else:\n",
    "    print('Стандартная коробка №3')\n"
   ]
  },
  {
   "cell_type": "markdown",
   "metadata": {},
   "source": [
    "Решение №5"
   ]
  },
  {
   "cell_type": "code",
   "execution_count": 69,
   "metadata": {},
   "outputs": [
    {
     "name": "stdout",
     "output_type": "stream",
     "text": [
      "номер билета47832238\n",
      "Обычный\n"
     ]
    }
   ],
   "source": [
    "a = input('номер билета')\n",
    "numbers = list(a)\n",
    "numbers = [int(i) for i in numbers]\n",
    "if (sum(numbers[:3]) == sum(numbers[3:])):\n",
    "    print(\"Счастливый\")\n",
    "else:\n",
    "    print(\"Обычный\")"
   ]
  },
  {
   "cell_type": "code",
   "execution_count": null,
   "metadata": {},
   "outputs": [],
   "source": []
  }
 ],
 "metadata": {
  "kernelspec": {
   "display_name": "Python 3",
   "language": "python",
   "name": "python3"
  },
  "language_info": {
   "codemirror_mode": {
    "name": "ipython",
    "version": 3
   },
   "file_extension": ".py",
   "mimetype": "text/x-python",
   "name": "python",
   "nbconvert_exporter": "python",
   "pygments_lexer": "ipython3",
   "version": "3.8.3"
  }
 },
 "nbformat": 4,
 "nbformat_minor": 4
}
